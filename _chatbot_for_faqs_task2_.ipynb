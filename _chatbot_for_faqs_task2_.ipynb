{
  "nbformat": 4,
  "nbformat_minor": 0,
  "metadata": {
    "colab": {
      "provenance": [],
      "gpuType": "T4",
      "include_colab_link": true
    },
    "kernelspec": {
      "name": "python3",
      "display_name": "Python 3"
    },
    "language_info": {
      "name": "python"
    },
    "accelerator": "GPU"
  },
  "cells": [
    {
      "cell_type": "markdown",
      "metadata": {
        "id": "view-in-github",
        "colab_type": "text"
      },
      "source": [
        "<a href=\"https://colab.research.google.com/github/warakhan/ChatBot-FAQs/blob/main/_chatbot_for_faqs_task2_.ipynb\" target=\"_parent\"><img src=\"https://colab.research.google.com/assets/colab-badge.svg\" alt=\"Open In Colab\"/></a>"
      ]
    },
    {
      "cell_type": "code",
      "execution_count": null,
      "metadata": {
        "id": "CuTzl19Yn3Cj",
        "colab": {
          "base_uri": "https://localhost:8080/"
        },
        "outputId": "99a4002a-7d9e-467a-c007-8c4fa54caf5e"
      },
      "outputs": [
        {
          "output_type": "stream",
          "name": "stdout",
          "text": [
            "Welcome to the FAQ Bot created by Wara. Type 'quit' to exit.\n"
          ]
        }
      ],
      "source": [
        "import re\n",
        "responses = {\n",
        "    r\"(?i)what's your name\\??\": \"I'm the FAQ Bot, created by Wara. How can I help you?\",\n",
        "    r\"(?i)what can you do\\??\": \"I can answer frequently asked questions about the topic or product. Feel free to ask!\",\n",
        "    r\"(?i)how can i contact support\\??\": \"You can contact support by emailing warakhan86@gmail.com\",\n",
        "    r\"(?i)what are your hours of operation for this task with which organisation\\??\": \"Wara is working as an intern in CodeAlpha, which is the organization behind this chatbot.\",\n",
        "    r\"(?i)What is your return policy?\": \"Our return policy lasts 30 days. Items must be unused and in their original packaging.\",\n",
        "   r\"(?i) What payment methods do you accept?\": \"We accept Visa, MasterCard, PayPal, and Apple Pay.\",\n",
        "    r\"(?i)How can I track my order?\": \"You can track your order using the tracking number provided in your confirmation email.\",\n",
        "    r\"Do you ship internationally?\": \"Yes, we ship to most countries worldwide. Shipping fees may vary.\",\n",
        "}\n",
        "def chat():\n",
        "    print(\"Welcome to the FAQ Bot created by Wara. Type 'quit' to exit.\")\n",
        "    while True:\n",
        "        user_input = input(\"You: \")\n",
        "        if user_input.lower() == 'quit':\n",
        "            break\n",
        "        else:\n",
        "            response = generate_response(user_input)\n",
        "            print(\"FAQ Bot:\", response)\n",
        "def generate_response(user_input):\n",
        "    for pattern, response in responses.items():\n",
        "        if re.match(pattern, user_input):\n",
        "            return response\n",
        "    return \"I'm sorry, I don't understand that. Please ask another question.\"\n",
        "if __name__ == \"__main__\":\n",
        "    chat()\n",
        "\n"
      ]
    }
  ]
}